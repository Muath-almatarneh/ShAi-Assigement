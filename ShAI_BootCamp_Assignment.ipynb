{
 "cells": [
  {
   "cell_type": "markdown",
   "metadata": {
    "id": "9veqgG-LVKd3"
   },
   "source": [
    "#About Dataset\n",
    "salaries dataset generally provides information about the employees of an organization in relation to their compensation. It typically includes details such as how much each employee is paid (their salary), their job titles, the departments they work in, and possibly additional information like their level of experience, education, and employment history within the organization."
   ]
  },
  {
   "cell_type": "markdown",
   "metadata": {
    "id": "cZwHdpBfVzOh"
   },
   "source": [
    "# Features\n",
    "- 'Id'\n",
    "- 'EmployeeName'\n",
    "- 'JobTitle'\n",
    "- 'BasePay'\n",
    "- 'OvertimePay'\n",
    "- 'OtherPay'\n",
    "- 'Benefits'\n",
    "- 'TotalPay' -> salary\n",
    "- 'TotalPayBenefits'\n",
    "- 'Year'\n",
    "- 'Notes'\n",
    "- 'Agency'\n",
    "- 'Status'\n"
   ]
  },
  {
   "cell_type": "markdown",
   "metadata": {
    "id": "X1VJposzVrSF"
   },
   "source": [
    "# Tasks\n",
    "\n",
    "1. **Basic Data Exploration**: Identify the number of rows and columns in the dataset, determine the data types of each column, and check for missing values in each column.\n",
    "\n",
    "2. **Descriptive Statistics**: Calculate basic statistics mean, median, mode, minimum, and maximum salary, determine the range of salaries, and find the standard deviation.\n",
    "\n",
    "3. **Data Cleaning**: Handle missing data by suitable method with explain why you use it.\n",
    "\n",
    "4. **Basic Data Visualization**: Create histograms or bar charts to visualize the distribution of salaries, and use pie charts to represent the proportion of employees in different departments.\n",
    "\n",
    "5. **Grouped Analysis**: Group the data by one or more columns and calculate summary statistics for each group, and compare the average salaries across different groups.\n",
    "\n",
    "6. **Simple Correlation Analysis**: Identify any correlation between salary and another numerical column, and plot a scatter plot to visualize the relationship.\n",
    "\n",
    "8. **Summary of Insights**: Write a brief report summarizing the findings and insights from the analyses."
   ]
  },
  {
   "cell_type": "markdown",
   "metadata": {
    "id": "8_rNdHiGUT6A"
   },
   "source": [
    "# Very Important Note\n",
    "There is no fixed or singular solution for this assignment, so if anything is not clear, please do what you understand and provide an explanation."
   ]
  },
  {
   "cell_type": "code",
   "execution_count": 17,
   "metadata": {
    "colab": {
     "base_uri": "https://localhost:8080/",
     "height": 486
    },
    "id": "KmZfk5xkXI2y",
    "outputId": "382079a7-189c-4bd0-e3cc-e1b574e80c88"
   },
   "outputs": [],
   "source": [
    "import pandas as pd\n",
    "import numpy as np\n",
    "import matplotlib.pyplot as plt\n",
    "import seaborn as sns"
   ]
  },
  {
   "cell_type": "code",
   "execution_count": 4,
   "metadata": {},
   "outputs": [
    {
     "data": {
      "text/html": [
       "<div>\n",
       "<style scoped>\n",
       "    .dataframe tbody tr th:only-of-type {\n",
       "        vertical-align: middle;\n",
       "    }\n",
       "\n",
       "    .dataframe tbody tr th {\n",
       "        vertical-align: top;\n",
       "    }\n",
       "\n",
       "    .dataframe thead th {\n",
       "        text-align: right;\n",
       "    }\n",
       "</style>\n",
       "<table border=\"1\" class=\"dataframe\">\n",
       "  <thead>\n",
       "    <tr style=\"text-align: right;\">\n",
       "      <th></th>\n",
       "      <th>Id</th>\n",
       "      <th>EmployeeName</th>\n",
       "      <th>JobTitle</th>\n",
       "      <th>BasePay</th>\n",
       "      <th>OvertimePay</th>\n",
       "      <th>OtherPay</th>\n",
       "      <th>Benefits</th>\n",
       "      <th>TotalPay</th>\n",
       "      <th>TotalPayBenefits</th>\n",
       "      <th>Year</th>\n",
       "      <th>Notes</th>\n",
       "      <th>Agency</th>\n",
       "      <th>Status</th>\n",
       "    </tr>\n",
       "  </thead>\n",
       "  <tbody>\n",
       "    <tr>\n",
       "      <th>0</th>\n",
       "      <td>1</td>\n",
       "      <td>NATHANIEL FORD</td>\n",
       "      <td>GENERAL MANAGER-METROPOLITAN TRANSIT AUTHORITY</td>\n",
       "      <td>167411.18</td>\n",
       "      <td>0.00</td>\n",
       "      <td>400184.25</td>\n",
       "      <td>NaN</td>\n",
       "      <td>567595.43</td>\n",
       "      <td>567595.43</td>\n",
       "      <td>2011</td>\n",
       "      <td>NaN</td>\n",
       "      <td>San Francisco</td>\n",
       "      <td>NaN</td>\n",
       "    </tr>\n",
       "    <tr>\n",
       "      <th>1</th>\n",
       "      <td>2</td>\n",
       "      <td>GARY JIMENEZ</td>\n",
       "      <td>CAPTAIN III (POLICE DEPARTMENT)</td>\n",
       "      <td>155966.02</td>\n",
       "      <td>245131.88</td>\n",
       "      <td>137811.38</td>\n",
       "      <td>NaN</td>\n",
       "      <td>538909.28</td>\n",
       "      <td>538909.28</td>\n",
       "      <td>2011</td>\n",
       "      <td>NaN</td>\n",
       "      <td>San Francisco</td>\n",
       "      <td>NaN</td>\n",
       "    </tr>\n",
       "    <tr>\n",
       "      <th>2</th>\n",
       "      <td>3</td>\n",
       "      <td>ALBERT PARDINI</td>\n",
       "      <td>CAPTAIN III (POLICE DEPARTMENT)</td>\n",
       "      <td>212739.13</td>\n",
       "      <td>106088.18</td>\n",
       "      <td>16452.60</td>\n",
       "      <td>NaN</td>\n",
       "      <td>335279.91</td>\n",
       "      <td>335279.91</td>\n",
       "      <td>2011</td>\n",
       "      <td>NaN</td>\n",
       "      <td>San Francisco</td>\n",
       "      <td>NaN</td>\n",
       "    </tr>\n",
       "    <tr>\n",
       "      <th>3</th>\n",
       "      <td>4</td>\n",
       "      <td>CHRISTOPHER CHONG</td>\n",
       "      <td>WIRE ROPE CABLE MAINTENANCE MECHANIC</td>\n",
       "      <td>77916.00</td>\n",
       "      <td>56120.71</td>\n",
       "      <td>198306.90</td>\n",
       "      <td>NaN</td>\n",
       "      <td>332343.61</td>\n",
       "      <td>332343.61</td>\n",
       "      <td>2011</td>\n",
       "      <td>NaN</td>\n",
       "      <td>San Francisco</td>\n",
       "      <td>NaN</td>\n",
       "    </tr>\n",
       "    <tr>\n",
       "      <th>4</th>\n",
       "      <td>5</td>\n",
       "      <td>PATRICK GARDNER</td>\n",
       "      <td>DEPUTY CHIEF OF DEPARTMENT,(FIRE DEPARTMENT)</td>\n",
       "      <td>134401.60</td>\n",
       "      <td>9737.00</td>\n",
       "      <td>182234.59</td>\n",
       "      <td>NaN</td>\n",
       "      <td>326373.19</td>\n",
       "      <td>326373.19</td>\n",
       "      <td>2011</td>\n",
       "      <td>NaN</td>\n",
       "      <td>San Francisco</td>\n",
       "      <td>NaN</td>\n",
       "    </tr>\n",
       "  </tbody>\n",
       "</table>\n",
       "</div>"
      ],
      "text/plain": [
       "   Id       EmployeeName                                        JobTitle  \\\n",
       "0   1     NATHANIEL FORD  GENERAL MANAGER-METROPOLITAN TRANSIT AUTHORITY   \n",
       "1   2       GARY JIMENEZ                 CAPTAIN III (POLICE DEPARTMENT)   \n",
       "2   3     ALBERT PARDINI                 CAPTAIN III (POLICE DEPARTMENT)   \n",
       "3   4  CHRISTOPHER CHONG            WIRE ROPE CABLE MAINTENANCE MECHANIC   \n",
       "4   5    PATRICK GARDNER    DEPUTY CHIEF OF DEPARTMENT,(FIRE DEPARTMENT)   \n",
       "\n",
       "     BasePay  OvertimePay   OtherPay  Benefits   TotalPay  TotalPayBenefits  \\\n",
       "0  167411.18         0.00  400184.25       NaN  567595.43         567595.43   \n",
       "1  155966.02    245131.88  137811.38       NaN  538909.28         538909.28   \n",
       "2  212739.13    106088.18   16452.60       NaN  335279.91         335279.91   \n",
       "3   77916.00     56120.71  198306.90       NaN  332343.61         332343.61   \n",
       "4  134401.60      9737.00  182234.59       NaN  326373.19         326373.19   \n",
       "\n",
       "   Year  Notes         Agency  Status  \n",
       "0  2011    NaN  San Francisco     NaN  \n",
       "1  2011    NaN  San Francisco     NaN  \n",
       "2  2011    NaN  San Francisco     NaN  \n",
       "3  2011    NaN  San Francisco     NaN  \n",
       "4  2011    NaN  San Francisco     NaN  "
      ]
     },
     "execution_count": 4,
     "metadata": {},
     "output_type": "execute_result"
    }
   ],
   "source": [
    "# Load your dataset\n",
    "df = pd.read_csv('Salaries.csv')\n",
    "df.head()"
   ]
  },
  {
   "cell_type": "code",
   "execution_count": 5,
   "metadata": {
    "colab": {
     "base_uri": "https://localhost:8080/"
    },
    "id": "xIT514wlvvBZ",
    "outputId": "9ecf152c-554a-4cf6-d667-efc95c16d489"
   },
   "outputs": [
    {
     "data": {
      "text/plain": [
       "Index(['Id', 'EmployeeName', 'JobTitle', 'BasePay', 'OvertimePay', 'OtherPay',\n",
       "       'Benefits', 'TotalPay', 'TotalPayBenefits', 'Year', 'Notes', 'Agency',\n",
       "       'Status'],\n",
       "      dtype='object')"
      ]
     },
     "execution_count": 5,
     "metadata": {},
     "output_type": "execute_result"
    }
   ],
   "source": [
    "df.columns"
   ]
  },
  {
   "cell_type": "markdown",
   "metadata": {
    "id": "IdFCoozCjzB5"
   },
   "source": [
    " # Basic Data Exploration"
   ]
  },
  {
   "cell_type": "code",
   "execution_count": 6,
   "metadata": {
    "colab": {
     "base_uri": "https://localhost:8080/"
    },
    "id": "MEHGahd3hQFg",
    "outputId": "54f361e2-62d6-4683-a11e-2161b6d1ffb4"
   },
   "outputs": [
    {
     "name": "stdout",
     "output_type": "stream",
     "text": [
      "<class 'pandas.core.frame.DataFrame'>\n",
      "RangeIndex: 148654 entries, 0 to 148653\n",
      "Data columns (total 13 columns):\n",
      " #   Column            Non-Null Count   Dtype  \n",
      "---  ------            --------------   -----  \n",
      " 0   Id                148654 non-null  int64  \n",
      " 1   EmployeeName      148654 non-null  object \n",
      " 2   JobTitle          148654 non-null  object \n",
      " 3   BasePay           148045 non-null  float64\n",
      " 4   OvertimePay       148650 non-null  float64\n",
      " 5   OtherPay          148650 non-null  float64\n",
      " 6   Benefits          112491 non-null  float64\n",
      " 7   TotalPay          148654 non-null  float64\n",
      " 8   TotalPayBenefits  148654 non-null  float64\n",
      " 9   Year              148654 non-null  int64  \n",
      " 10  Notes             0 non-null       float64\n",
      " 11  Agency            148654 non-null  object \n",
      " 12  Status            0 non-null       float64\n",
      "dtypes: float64(8), int64(2), object(3)\n",
      "memory usage: 14.7+ MB\n"
     ]
    }
   ],
   "source": [
    "df.info()"
   ]
  },
  {
   "cell_type": "code",
   "execution_count": 7,
   "metadata": {
    "colab": {
     "base_uri": "https://localhost:8080/"
    },
    "id": "0mrJyPT6hJho",
    "outputId": "390ada67-4dd1-4b16-fc51-80a5fe4c6a2a"
   },
   "outputs": [
    {
     "name": "stdout",
     "output_type": "stream",
     "text": [
      "(148654, 13)\n",
      "Number of Rows:  148654\n",
      "Number of Columns:  13\n"
     ]
    }
   ],
   "source": [
    "print(df.shape)\n",
    "n_rows, n_cols = df.shape\n",
    "print(\"Number of Rows: \", n_rows)\n",
    "print(\"Number of Columns: \", n_cols)"
   ]
  },
  {
   "cell_type": "markdown",
   "metadata": {
    "id": "21pQNv4LiRG0"
   },
   "source": [
    "## Data types for each column"
   ]
  },
  {
   "cell_type": "code",
   "execution_count": 19,
   "metadata": {
    "colab": {
     "base_uri": "https://localhost:8080/"
    },
    "id": "vQ8UubOKhuRX",
    "outputId": "a0f6f741-408a-4d42-93eb-d904b6459cd0"
   },
   "outputs": [
    {
     "data": {
      "text/plain": [
       "Id                    int64\n",
       "EmployeeName         object\n",
       "JobTitle             object\n",
       "BasePay             float64\n",
       "OvertimePay         float64\n",
       "OtherPay            float64\n",
       "Benefits            float64\n",
       "TotalPay            float64\n",
       "TotalPayBenefits    float64\n",
       "Year                  int64\n",
       "Notes               float64\n",
       "Agency               object\n",
       "Status              float64\n",
       "dtype: object"
      ]
     },
     "execution_count": 19,
     "metadata": {},
     "output_type": "execute_result"
    }
   ],
   "source": [
    "df.dtypes"
   ]
  },
  {
   "cell_type": "markdown",
   "metadata": {
    "id": "zE8V4f-xjj69"
   },
   "source": [
    "## Check for missing values in each column\n"
   ]
  },
  {
   "cell_type": "code",
   "execution_count": 9,
   "metadata": {
    "colab": {
     "base_uri": "https://localhost:8080/"
    },
    "id": "6_9cJN0EiXdW",
    "outputId": "2fbe6272-3847-4625-c98f-52829c9e9677"
   },
   "outputs": [
    {
     "data": {
      "text/plain": [
       "Id                       0\n",
       "EmployeeName             0\n",
       "JobTitle                 0\n",
       "BasePay                609\n",
       "OvertimePay              4\n",
       "OtherPay                 4\n",
       "Benefits             36163\n",
       "TotalPay                 0\n",
       "TotalPayBenefits         0\n",
       "Year                     0\n",
       "Notes               148654\n",
       "Agency                   0\n",
       "Status              148654\n",
       "dtype: int64"
      ]
     },
     "execution_count": 9,
     "metadata": {},
     "output_type": "execute_result"
    }
   ],
   "source": [
    "df.isnull().sum()"
   ]
  },
  {
   "cell_type": "markdown",
   "metadata": {
    "id": "xOO7ekFnkZTH"
   },
   "source": [
    "# Descriptive Statistics\n",
    "---\n",
    "## Salary statistics"
   ]
  },
  {
   "cell_type": "code",
   "execution_count": 8,
   "metadata": {
    "colab": {
     "base_uri": "https://localhost:8080/"
    },
    "id": "EvQNgO1HkNHd",
    "outputId": "d4f48254-db4a-4440-9fb4-2a0a29ce3185"
   },
   "outputs": [
    {
     "name": "stdout",
     "output_type": "stream",
     "text": [
      "Mean Salary: 74768.32197169267\n",
      "Median Salary: 71426.60999999999\n",
      "Mode Salary: 0.0\n",
      "Minimum Salary: -618.13\n",
      "Maximum Salary: 567595.43\n",
      "Range of Salaries: 568213.56\n",
      "Standard Deviation of Salaries: 50517.005273949944\n"
     ]
    }
   ],
   "source": [
    "#'TotalPay' -> salary\n",
    "\n",
    "# Calculate mean salary\n",
    "mean_salary = df['TotalPay'].mean()\n",
    "print(\"Mean Salary:\", mean_salary)\n",
    "\n",
    "# Calculate median salary\n",
    "median_salary = df['TotalPay'].median()\n",
    "print(\"Median Salary:\", median_salary)\n",
    "\n",
    "# Calculate mode salary\n",
    "mode_salary = df['TotalPay'].mode()[0]\n",
    "print(\"Mode Salary:\", mode_salary)\n",
    "\n",
    "# Calculate minimum salary\n",
    "min_salary = df['TotalPay'].min()\n",
    "print(\"Minimum Salary:\", min_salary)\n",
    "\n",
    "# Calculate maximum salary\n",
    "max_salary = df['TotalPay'].max()\n",
    "print(\"Maximum Salary:\", max_salary)\n",
    "\n",
    "# Calculate range of salaries\n",
    "salary_range = max_salary - min_salary\n",
    "print(\"Range of Salaries:\", salary_range)\n",
    "\n",
    "# Calculate standard deviation of salaries\n",
    "salary_std = df['TotalPay'].std()\n",
    "print(\"Standard Deviation of Salaries:\", salary_std)\n"
   ]
  },
  {
   "cell_type": "markdown",
   "metadata": {
    "id": "nmUhBxKinRXR"
   },
   "source": [
    "# Data Cleaning"
   ]
  },
  {
   "cell_type": "code",
   "execution_count": 10,
   "metadata": {},
   "outputs": [],
   "source": [
    "#Drop columns denfits , notes and status\n",
    "#because have alot of missing\n",
    "\n",
    "df.drop('Benefits',axis=1,inplace=True)\n",
    "df.drop('Notes',axis=1,inplace=True)\n",
    "df.drop('Status',axis=1,inplace=True)\n",
    "\n",
    "#BasePay have small missing data\n",
    "#drop all Null\n",
    "\n",
    "df.dropna(inplace=True)\n",
    "\n",
    "#creat new DataFrame to save original data\n",
    "new_df=df.drop('Id',axis=1)"
   ]
  },
  {
   "cell_type": "markdown",
   "metadata": {},
   "source": [
    "# Basic Data Visualization"
   ]
  },
  {
   "cell_type": "code",
   "execution_count": 13,
   "metadata": {},
   "outputs": [
    {
     "data": {
      "image/png": "[encoded data removed]",
      "text/plain": [
       "<Figure size 1000x500 with 1 Axes>"
      ]
     },
     "metadata": {},
     "output_type": "display_data"
    },
    {
     "data": {
      "image/png": "[encoded data removed]",
      "text/plain": [
       "<Figure size 2000x1000 with 1 Axes>"
      ]
     },
     "metadata": {},
     "output_type": "display_data"
    }
   ],
   "source": [
    "# Histogram for salary distribution\n",
    "plt.figure(figsize=(10, 5))\n",
    "plt.hist(df['TotalPay'], bins=10, color='skyblue', edgecolor='black')\n",
    "plt.xlabel('Salary')\n",
    "plt.ylabel('Frequency')\n",
    "plt.title('Salary Distribution')\n",
    "plt.show()\n",
    "\n",
    "# Pie chart for proportion of employees in different departments\n",
    "plt.figure(figsize=(20, 10))\n",
    "dept_counts = df['Year'].value_counts()\n",
    "plt.pie(dept_counts, labels=dept_counts.index, autopct='%1.1f%%')\n",
    "plt.title('Proportion of Employees in Different Departments')\n",
    "plt.show()\n"
   ]
  },
  {
   "cell_type": "markdown",
   "metadata": {},
   "source": [
    "# Grouped Analysis"
   ]
  },
  {
   "cell_type": "code",
   "execution_count": 14,
   "metadata": {},
   "outputs": [
    {
     "name": "stdout",
     "output_type": "stream",
     "text": [
      "Grouped Summary Statistics for Salary:\n"
     ]
    },
    {
     "data": {
      "text/html": [
       "<div>\n",
       "<style scoped>\n",
       "    .dataframe tbody tr th:only-of-type {\n",
       "        vertical-align: middle;\n",
       "    }\n",
       "\n",
       "    .dataframe tbody tr th {\n",
       "        vertical-align: top;\n",
       "    }\n",
       "\n",
       "    .dataframe thead th {\n",
       "        text-align: right;\n",
       "    }\n",
       "</style>\n",
       "<table border=\"1\" class=\"dataframe\">\n",
       "  <thead>\n",
       "    <tr style=\"text-align: right;\">\n",
       "      <th>JobTitle</th>\n",
       "      <th>ACCOUNT CLERK</th>\n",
       "      <th>ACCOUNTANT</th>\n",
       "      <th>ACCOUNTANT INTERN</th>\n",
       "      <th>ACPO,JuvP, Juv Prob (SFERS)</th>\n",
       "      <th>ACUPUNCTURIST</th>\n",
       "      <th>ADMINISTRATIVE ANALYST</th>\n",
       "      <th>ADMINISTRATIVE ANALYST II</th>\n",
       "      <th>ADMINISTRATIVE ANALYST III</th>\n",
       "      <th>ADMINISTRATIVE ENGINEER</th>\n",
       "      <th>ADMINISTRATIVE SERVICES MANAGER</th>\n",
       "      <th>...</th>\n",
       "      <th>Window Cleaner Supervisor</th>\n",
       "      <th>Wire Rope Cable Maint Mechanic</th>\n",
       "      <th>Wire Rope Cable Maint Sprv</th>\n",
       "      <th>Worker's Comp Supervisor 1</th>\n",
       "      <th>Worker's Compensation Adjuster</th>\n",
       "      <th>X-RAY LABORATORY AIDE</th>\n",
       "      <th>X-Ray Laboratory Aide</th>\n",
       "      <th>YOUTH COMMISSION ADVISOR, BOARD OF SUPERVISORS</th>\n",
       "      <th>Youth Comm Advisor</th>\n",
       "      <th>ZOO CURATOR</th>\n",
       "    </tr>\n",
       "  </thead>\n",
       "  <tbody>\n",
       "    <tr>\n",
       "      <th>count</th>\n",
       "      <td>83.000000</td>\n",
       "      <td>5.000000</td>\n",
       "      <td>48.000000</td>\n",
       "      <td>1.00</td>\n",
       "      <td>1.0</td>\n",
       "      <td>93.000000</td>\n",
       "      <td>2.000000</td>\n",
       "      <td>2.000000</td>\n",
       "      <td>10.000000</td>\n",
       "      <td>3.00000</td>\n",
       "      <td>...</td>\n",
       "      <td>3.000000</td>\n",
       "      <td>29.000000</td>\n",
       "      <td>3.000000</td>\n",
       "      <td>14.000000</td>\n",
       "      <td>74.000000</td>\n",
       "      <td>26.000000</td>\n",
       "      <td>100.000000</td>\n",
       "      <td>1.00</td>\n",
       "      <td>4.000000</td>\n",
       "      <td>1.00</td>\n",
       "    </tr>\n",
       "    <tr>\n",
       "      <th>mean</th>\n",
       "      <td>44035.664337</td>\n",
       "      <td>47429.268000</td>\n",
       "      <td>29031.742917</td>\n",
       "      <td>62290.78</td>\n",
       "      <td>67594.4</td>\n",
       "      <td>63954.867527</td>\n",
       "      <td>61497.035000</td>\n",
       "      <td>92698.515000</td>\n",
       "      <td>127961.430000</td>\n",
       "      <td>77015.58000</td>\n",
       "      <td>...</td>\n",
       "      <td>77512.493333</td>\n",
       "      <td>116080.888966</td>\n",
       "      <td>203033.720000</td>\n",
       "      <td>70389.297143</td>\n",
       "      <td>73249.269865</td>\n",
       "      <td>52705.880385</td>\n",
       "      <td>50823.942700</td>\n",
       "      <td>53632.87</td>\n",
       "      <td>41414.307500</td>\n",
       "      <td>66686.56</td>\n",
       "    </tr>\n",
       "    <tr>\n",
       "      <th>std</th>\n",
       "      <td>13170.742908</td>\n",
       "      <td>27137.331315</td>\n",
       "      <td>20711.322649</td>\n",
       "      <td>NaN</td>\n",
       "      <td>NaN</td>\n",
       "      <td>18613.695839</td>\n",
       "      <td>19924.550824</td>\n",
       "      <td>209.989501</td>\n",
       "      <td>14993.074838</td>\n",
       "      <td>20033.53961</td>\n",
       "      <td>...</td>\n",
       "      <td>3653.407319</td>\n",
       "      <td>56352.451981</td>\n",
       "      <td>18943.310631</td>\n",
       "      <td>38380.304769</td>\n",
       "      <td>20057.372880</td>\n",
       "      <td>19760.943417</td>\n",
       "      <td>24170.083004</td>\n",
       "      <td>NaN</td>\n",
       "      <td>17311.066571</td>\n",
       "      <td>NaN</td>\n",
       "    </tr>\n",
       "    <tr>\n",
       "      <th>min</th>\n",
       "      <td>614.000000</td>\n",
       "      <td>1148.400000</td>\n",
       "      <td>2981.530000</td>\n",
       "      <td>62290.78</td>\n",
       "      <td>67594.4</td>\n",
       "      <td>2388.240000</td>\n",
       "      <td>47408.250000</td>\n",
       "      <td>92550.030000</td>\n",
       "      <td>91833.330000</td>\n",
       "      <td>54261.37000</td>\n",
       "      <td>...</td>\n",
       "      <td>73329.000000</td>\n",
       "      <td>4219.660000</td>\n",
       "      <td>190575.900000</td>\n",
       "      <td>56.640000</td>\n",
       "      <td>1837.390000</td>\n",
       "      <td>5343.690000</td>\n",
       "      <td>1007.000000</td>\n",
       "      <td>53632.87</td>\n",
       "      <td>19212.710000</td>\n",
       "      <td>66686.56</td>\n",
       "    </tr>\n",
       "    <tr>\n",
       "      <th>25%</th>\n",
       "      <td>42984.010000</td>\n",
       "      <td>45304.380000</td>\n",
       "      <td>9940.000000</td>\n",
       "      <td>62290.78</td>\n",
       "      <td>67594.4</td>\n",
       "      <td>62136.510000</td>\n",
       "      <td>54452.642500</td>\n",
       "      <td>92624.272500</td>\n",
       "      <td>129235.230000</td>\n",
       "      <td>69522.37000</td>\n",
       "      <td>...</td>\n",
       "      <td>76231.475000</td>\n",
       "      <td>84566.820000</td>\n",
       "      <td>192133.845000</td>\n",
       "      <td>41840.500000</td>\n",
       "      <td>69508.625000</td>\n",
       "      <td>51729.915000</td>\n",
       "      <td>26919.207500</td>\n",
       "      <td>53632.87</td>\n",
       "      <td>32152.610000</td>\n",
       "      <td>66686.56</td>\n",
       "    </tr>\n",
       "    <tr>\n",
       "      <th>50%</th>\n",
       "      <td>49777.820000</td>\n",
       "      <td>60076.240000</td>\n",
       "      <td>17658.505000</td>\n",
       "      <td>62290.78</td>\n",
       "      <td>67594.4</td>\n",
       "      <td>71602.900000</td>\n",
       "      <td>61497.035000</td>\n",
       "      <td>92698.515000</td>\n",
       "      <td>130171.065000</td>\n",
       "      <td>84783.37000</td>\n",
       "      <td>...</td>\n",
       "      <td>79133.950000</td>\n",
       "      <td>131611.440000</td>\n",
       "      <td>193691.790000</td>\n",
       "      <td>92558.110000</td>\n",
       "      <td>80348.540000</td>\n",
       "      <td>60333.125000</td>\n",
       "      <td>60047.290000</td>\n",
       "      <td>53632.87</td>\n",
       "      <td>44449.895000</td>\n",
       "      <td>66686.56</td>\n",
       "    </tr>\n",
       "    <tr>\n",
       "      <th>75%</th>\n",
       "      <td>50401.810000</td>\n",
       "      <td>65225.310000</td>\n",
       "      <td>53789.800000</td>\n",
       "      <td>62290.78</td>\n",
       "      <td>67594.4</td>\n",
       "      <td>75005.630000</td>\n",
       "      <td>68541.427500</td>\n",
       "      <td>92772.757500</td>\n",
       "      <td>133775.530000</td>\n",
       "      <td>88392.68500</td>\n",
       "      <td>...</td>\n",
       "      <td>79604.240000</td>\n",
       "      <td>154625.470000</td>\n",
       "      <td>209262.630000</td>\n",
       "      <td>100810.357500</td>\n",
       "      <td>85185.037500</td>\n",
       "      <td>64305.285000</td>\n",
       "      <td>68306.242500</td>\n",
       "      <td>53632.87</td>\n",
       "      <td>53711.592500</td>\n",
       "      <td>66686.56</td>\n",
       "    </tr>\n",
       "    <tr>\n",
       "      <th>max</th>\n",
       "      <td>60838.200000</td>\n",
       "      <td>65392.010000</td>\n",
       "      <td>58799.530000</td>\n",
       "      <td>62290.78</td>\n",
       "      <td>67594.4</td>\n",
       "      <td>79754.030000</td>\n",
       "      <td>75585.820000</td>\n",
       "      <td>92847.000000</td>\n",
       "      <td>149322.230000</td>\n",
       "      <td>92002.00000</td>\n",
       "      <td>...</td>\n",
       "      <td>80074.530000</td>\n",
       "      <td>189630.640000</td>\n",
       "      <td>224833.470000</td>\n",
       "      <td>108810.030000</td>\n",
       "      <td>106050.660000</td>\n",
       "      <td>85077.400000</td>\n",
       "      <td>99812.970000</td>\n",
       "      <td>53632.87</td>\n",
       "      <td>57544.730000</td>\n",
       "      <td>66686.56</td>\n",
       "    </tr>\n",
       "  </tbody>\n",
       "</table>\n",
       "<p>8 rows × 2154 columns</p>\n",
       "</div>"
      ],
      "text/plain": [
       "JobTitle  ACCOUNT CLERK    ACCOUNTANT  ACCOUNTANT INTERN  \\\n",
       "count         83.000000      5.000000          48.000000   \n",
       "mean       44035.664337  47429.268000       29031.742917   \n",
       "std        13170.742908  27137.331315       20711.322649   \n",
       "min          614.000000   1148.400000        2981.530000   \n",
       "25%        42984.010000  45304.380000        9940.000000   \n",
       "50%        49777.820000  60076.240000       17658.505000   \n",
       "75%        50401.810000  65225.310000       53789.800000   \n",
       "max        60838.200000  65392.010000       58799.530000   \n",
       "\n",
       "JobTitle  ACPO,JuvP, Juv Prob (SFERS)  ACUPUNCTURIST  ADMINISTRATIVE ANALYST  \\\n",
       "count                            1.00            1.0               93.000000   \n",
       "mean                         62290.78        67594.4            63954.867527   \n",
       "std                               NaN            NaN            18613.695839   \n",
       "min                          62290.78        67594.4             2388.240000   \n",
       "25%                          62290.78        67594.4            62136.510000   \n",
       "50%                          62290.78        67594.4            71602.900000   \n",
       "75%                          62290.78        67594.4            75005.630000   \n",
       "max                          62290.78        67594.4            79754.030000   \n",
       "\n",
       "JobTitle  ADMINISTRATIVE ANALYST II  ADMINISTRATIVE ANALYST III  \\\n",
       "count                      2.000000                    2.000000   \n",
       "mean                   61497.035000                92698.515000   \n",
       "std                    19924.550824                  209.989501   \n",
       "min                    47408.250000                92550.030000   \n",
       "25%                    54452.642500                92624.272500   \n",
       "50%                    61497.035000                92698.515000   \n",
       "75%                    68541.427500                92772.757500   \n",
       "max                    75585.820000                92847.000000   \n",
       "\n",
       "JobTitle  ADMINISTRATIVE ENGINEER  ADMINISTRATIVE SERVICES MANAGER  ...  \\\n",
       "count                   10.000000                          3.00000  ...   \n",
       "mean                127961.430000                      77015.58000  ...   \n",
       "std                  14993.074838                      20033.53961  ...   \n",
       "min                  91833.330000                      54261.37000  ...   \n",
       "25%                 129235.230000                      69522.37000  ...   \n",
       "50%                 130171.065000                      84783.37000  ...   \n",
       "75%                 133775.530000                      88392.68500  ...   \n",
       "max                 149322.230000                      92002.00000  ...   \n",
       "\n",
       "JobTitle  Window Cleaner Supervisor  Wire Rope Cable Maint Mechanic  \\\n",
       "count                      3.000000                       29.000000   \n",
       "mean                   77512.493333                   116080.888966   \n",
       "std                     3653.407319                    56352.451981   \n",
       "min                    73329.000000                     4219.660000   \n",
       "25%                    76231.475000                    84566.820000   \n",
       "50%                    79133.950000                   131611.440000   \n",
       "75%                    79604.240000                   154625.470000   \n",
       "max                    80074.530000                   189630.640000   \n",
       "\n",
       "JobTitle  Wire Rope Cable Maint Sprv  Worker's Comp Supervisor 1  \\\n",
       "count                       3.000000                   14.000000   \n",
       "mean                   203033.720000                70389.297143   \n",
       "std                     18943.310631                38380.304769   \n",
       "min                    190575.900000                   56.640000   \n",
       "25%                    192133.845000                41840.500000   \n",
       "50%                    193691.790000                92558.110000   \n",
       "75%                    209262.630000               100810.357500   \n",
       "max                    224833.470000               108810.030000   \n",
       "\n",
       "JobTitle  Worker's Compensation Adjuster  X-RAY LABORATORY AIDE  \\\n",
       "count                          74.000000              26.000000   \n",
       "mean                        73249.269865           52705.880385   \n",
       "std                         20057.372880           19760.943417   \n",
       "min                          1837.390000            5343.690000   \n",
       "25%                         69508.625000           51729.915000   \n",
       "50%                         80348.540000           60333.125000   \n",
       "75%                         85185.037500           64305.285000   \n",
       "max                        106050.660000           85077.400000   \n",
       "\n",
       "JobTitle  X-Ray Laboratory Aide  \\\n",
       "count                100.000000   \n",
       "mean               50823.942700   \n",
       "std                24170.083004   \n",
       "min                 1007.000000   \n",
       "25%                26919.207500   \n",
       "50%                60047.290000   \n",
       "75%                68306.242500   \n",
       "max                99812.970000   \n",
       "\n",
       "JobTitle  YOUTH COMMISSION ADVISOR, BOARD OF SUPERVISORS  Youth Comm Advisor  \\\n",
       "count                                               1.00            4.000000   \n",
       "mean                                            53632.87        41414.307500   \n",
       "std                                                  NaN        17311.066571   \n",
       "min                                             53632.87        19212.710000   \n",
       "25%                                             53632.87        32152.610000   \n",
       "50%                                             53632.87        44449.895000   \n",
       "75%                                             53632.87        53711.592500   \n",
       "max                                             53632.87        57544.730000   \n",
       "\n",
       "JobTitle  ZOO CURATOR  \n",
       "count            1.00  \n",
       "mean         66686.56  \n",
       "std               NaN  \n",
       "min          66686.56  \n",
       "25%          66686.56  \n",
       "50%          66686.56  \n",
       "75%          66686.56  \n",
       "max          66686.56  \n",
       "\n",
       "[8 rows x 2154 columns]"
      ]
     },
     "execution_count": 14,
     "metadata": {},
     "output_type": "execute_result"
    }
   ],
   "source": [
    "# Group data by department and calculate summary statistics for each group\n",
    "grouped_stats = df.groupby('JobTitle')['TotalPay'].describe().T\n",
    "print(\"Grouped Summary Statistics for Salary:\")\n",
    "grouped_stats\n"
   ]
  },
  {
   "cell_type": "code",
   "execution_count": 15,
   "metadata": {},
   "outputs": [
    {
     "name": "stdout",
     "output_type": "stream",
     "text": [
      "Average Salary :\n"
     ]
    },
    {
     "data": {
      "text/plain": [
       "JobTitle\n",
       "ACCOUNT CLERK                                     44035.664337\n",
       "ACCOUNTANT                                        47429.268000\n",
       "ACCOUNTANT INTERN                                 29031.742917\n",
       "ACPO,JuvP, Juv Prob (SFERS)                       62290.780000\n",
       "ACUPUNCTURIST                                     67594.400000\n",
       "                                                      ...     \n",
       "X-RAY LABORATORY AIDE                             52705.880385\n",
       "X-Ray Laboratory Aide                             50823.942700\n",
       "YOUTH COMMISSION ADVISOR, BOARD OF SUPERVISORS    53632.870000\n",
       "Youth Comm Advisor                                41414.307500\n",
       "ZOO CURATOR                                       66686.560000\n",
       "Name: TotalPay, Length: 2154, dtype: float64"
      ]
     },
     "execution_count": 15,
     "metadata": {},
     "output_type": "execute_result"
    }
   ],
   "source": [
    "# Compare average salaries across different groups\n",
    "average_salary = df.groupby('JobTitle')['TotalPay'].mean()\n",
    "print(\"Average Salary :\")\n",
    "average_salary\n"
   ]
  },
  {
   "cell_type": "markdown",
   "metadata": {},
   "source": [
    "# Simple Correlation Analysis"
   ]
  },
  {
   "cell_type": "code",
   "execution_count": 19,
   "metadata": {},
   "outputs": [
    {
     "data": {
      "image/png": "[encoded data removed]",
      "text/plain": [
       "<Figure size 2000x500 with 4 Axes>"
      ]
     },
     "metadata": {},
     "output_type": "display_data"
    }
   ],
   "source": [
    "f, axs = plt.subplots(1, 2, figsize=(20, 5), width_ratios=[3, 1])\n",
    "\n",
    "sns.heatmap(data=new_df.corr(method=\"pearson\", numeric_only=True), vmin=-1, vmax=1, annot=True, ax=axs[0])\n",
    "axs[0].set_title(\"Correlation matrix\")\n",
    "\n",
    "sns.heatmap(data=new_df.corr(method=\"pearson\", numeric_only=True)[[\"TotalPay\"]].sort_values('TotalPay', ascending=False), vmin=-1, vmax=1, annot=True, ax=axs[1])\n",
    "axs[1].set_title(\"Correlation of numerical attributes with TotalPay (salaru)\")\n",
    "plt.show()"
   ]
  },
  {
   "cell_type": "markdown",
   "metadata": {
    "id": "HE9jbRjcUyoX"
   },
   "source": [
    "# Good Luck!"
   ]
  },
  {
   "cell_type": "code",
   "execution_count": null,
   "metadata": {},
   "outputs": [],
   "source": []
  }
 ],
 "metadata": {
  "colab": {
   "provenance": []
  },
  "kernelspec": {
   "display_name": "Python 3 (ipykernel)",
   "language": "python",
   "name": "python3"
  },
  "language_info": {
   "codemirror_mode": {
    "name": "ipython",
    "version": 3
   },
   "file_extension": ".py",
   "mimetype": "text/x-python",
   "name": "python",
   "nbconvert_exporter": "python",
   "pygments_lexer": "ipython3",
   "version": "3.11.5"
  }
 },
 "nbformat": 4,
 "nbformat_minor": 1
}
